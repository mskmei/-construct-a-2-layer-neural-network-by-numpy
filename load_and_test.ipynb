{
 "cells": [
  {
   "cell_type": "code",
   "execution_count": 1,
   "id": "67385889",
   "metadata": {},
   "outputs": [],
   "source": [
    "from tensorflow.keras.datasets import mnist\n",
    "import numpy as np\n",
    "import joblib"
   ]
  },
  {
   "cell_type": "markdown",
   "id": "e26d8324",
   "metadata": {},
   "source": [
    "本文件用于载入\"find_para.ipynb\"找到的的最佳模型进行训练，并将训练过程的精确度与损失可视化出来（参数的可视化请见“find_para.ipynb”）"
   ]
  },
  {
   "cell_type": "code",
   "execution_count": 2,
   "id": "a2d6f3a0",
   "metadata": {},
   "outputs": [],
   "source": [
    "def acc_cal(x,y):\n",
    "    acc = 0\n",
    "    for i in range(len(x)):\n",
    "        if x[i] == y[i]:\n",
    "            acc += 1/len(x)\n",
    "    return(acc)"
   ]
  },
  {
   "cell_type": "markdown",
   "id": "e5eedbe4",
   "metadata": {},
   "source": [
    "载入数据并对数据进行预处理，reshape为神经网络可以处理的形状"
   ]
  },
  {
   "cell_type": "code",
   "execution_count": 3,
   "id": "e646e94a",
   "metadata": {},
   "outputs": [],
   "source": [
    "(X_train, y_train), (X_test, y_test) = mnist.load_data()\n",
    "train_num = 60000\n",
    "test_num = 10000"
   ]
  },
  {
   "cell_type": "code",
   "execution_count": 4,
   "id": "c7c31c5a",
   "metadata": {},
   "outputs": [
    {
     "name": "stdout",
     "output_type": "stream",
     "text": [
      "train: (60000, 28, 28) (60000,) test: (10000, 28, 28) (10000,)\n"
     ]
    }
   ],
   "source": [
    "print(\"train:\",X_train.shape,y_train.shape,\n",
    "      \"test:\",X_test.shape,y_test.shape)"
   ]
  },
  {
   "cell_type": "code",
   "execution_count": 5,
   "id": "b8a0b9a2",
   "metadata": {},
   "outputs": [
    {
     "name": "stdout",
     "output_type": "stream",
     "text": [
      "train: (60000, 784) (60000,) test: (10000, 784) (10000,)\n"
     ]
    }
   ],
   "source": [
    "X_train = X_train.reshape(train_num,-1)\n",
    "X_test = X_test.reshape(test_num,-1)\n",
    "print(\"train:\",X_train.shape,y_train.shape,\n",
    "      \"test:\",X_test.shape,y_test.shape)"
   ]
  },
  {
   "cell_type": "markdown",
   "id": "52eb097d",
   "metadata": {},
   "source": [
    "这一步我们需要加载模型，如果您要在自己的电脑上运行的话，<font color=\"#dd0000\">请将文件“nn.pkl”放在同一个文件目录下：</font><br />\n",
    "文件“nn.pkl”的下载地址：\n",
    "\n",
    "加载模型之后我们直接使用该模型进行测试集上的预测（不使用训练集），并输出比较的精度"
   ]
  },
  {
   "cell_type": "code",
   "execution_count": 6,
   "id": "df78c27a",
   "metadata": {},
   "outputs": [
    {
     "name": "stdout",
     "output_type": "stream",
     "text": [
      "Test Accuracy:  0.9659999999999099\n"
     ]
    }
   ],
   "source": [
    "load_path = \"nn.pkl\"\n",
    "best_nn = joblib.load(load_path)\n",
    "test_accuracy = acc_cal(best_nn.predict(X_test),y_test)\n",
    "print ('Test Accuracy: ', test_accuracy)"
   ]
  },
  {
   "cell_type": "markdown",
   "id": "1c887e1e",
   "metadata": {},
   "source": [
    "测试过程的准确度显然是低于训练过程的，但是其值距离训练过程的精确度不超过2%，且达到了95%以上，因此认为模型的预测较为准确！"
   ]
  }
 ],
 "metadata": {
  "kernelspec": {
   "display_name": "Python 3",
   "language": "python",
   "name": "python3"
  },
  "language_info": {
   "codemirror_mode": {
    "name": "ipython",
    "version": 3
   },
   "file_extension": ".py",
   "mimetype": "text/x-python",
   "name": "python",
   "nbconvert_exporter": "python",
   "pygments_lexer": "ipython3",
   "version": "3.9.1"
  }
 },
 "nbformat": 4,
 "nbformat_minor": 5
}
